{
 "cells": [
  {
   "cell_type": "code",
   "execution_count": 2,
   "metadata": {},
   "outputs": [],
   "source": [
    "import numpy as np\n",
    "\n",
    "#Constans\n",
    "Pi = np.pi \n",
    "\n",
    "#Functions\n",
    "Cos = np.cos\n",
    "Sin = np.sin\n",
    "\n",
    "\n",
    "#Variables\n",
    "f = 100;                      #(* GW or Fourier \\frequency *)\n",
    "\n",
    "\n",
    "#Coefficients\n",
    "Gamma = 0.5772156649;         #(* Euler-Gamma constant. Appears in 3PN corrections *) \n",
    "Fp = -0.5; Fc = 0.866025;     # (*  Choosing antenna patterns for \\Theta=0^\\(Degree), Phi= 30^\\(Degree) and \\(Psi)=30^\\(Degree) *)\n",
    "Phic = 0;                     #(* Orbital phase at coalescence *)\n",
    "tc = 0;                       #(* \\Time of coalescence *)\n",
    "m1 = 10; m2 = 10;             #(* Mass of the binary \\components in solar mass units *)\n",
    "msun = 1.989e30;              #(* Solar mass in S.I. units  *)\n",
    "m = (m1 + m2)* msun;          #(* Total mass of the binary in S.I. units *)\n",
    "delta = (m1 - m2)* msun;      #(* Difference in the masses of the binary components in \\S.I. units *)\n",
    "Eta = (m1*m2*msun**2)/m**2;   #(* Symmetric mass ratio *)\n",
    "G = 6.67408e-11;              #(* Gravitational constant in S.I. units *)\n",
    "c = 299792458;                #(* Speed of light in vacuum in S.I. units *)\n",
    "d = 100*3.086e22;             #(* Distance to the binary in S.I. units *)\n",
    "f0 = 20.000;                  #(* Lower frequency cut-off of the GW detector *)\n",
    "\n",
    "\n",
    "ff = c**3/(G*m*Pi*6**(3/2));  # (* Fourier frequency corresponding to second harmonic \\of last stable orbit of the system *)\n",
    "Chi = f/f0;                   #(* Ratio of Fourier frequency to the lower cut-off frequency \\*)     \n",
    "i = Pi/3; Beta = Pi/3;        #(* Choose any value for angles relating line of sight to the \\orbital plane of the binary*)\n",
    "Ci = Cos(i);                  #(* Defining variables as trigonometric functions of \\angles iota and beta *)\n",
    "Si = Sin(i);\n",
    "S1Beta = Sin( Beta);\n",
    "C1Beta = Cos( Beta);\n",
    "S2Beta = Sin(2 * Beta);\n",
    "C2Beta = Cos(2 * Beta);\n",
    "S3Beta = Sin(3 * Beta);\n",
    "C3Beta = Cos(3 * Beta);\n",
    "S4Beta = Sin(4 * Beta);\n",
    "C4Beta = Cos(4 * Beta);\n",
    "et0 = 0.1;                    #(* Eccentricity at lower cut-off frequency of the \\detector, f0 i.e. et0 = et(f0) *)\n"
   ]
  },
  {
   "cell_type": "code",
   "execution_count": null,
   "metadata": {},
   "outputs": [],
   "source": []
  }
 ],
 "metadata": {
  "kernelspec": {
   "display_name": "Python 3",
   "language": "python",
   "name": "python3"
  },
  "language_info": {
   "codemirror_mode": {
    "name": "ipython",
    "version": 3
   },
   "file_extension": ".py",
   "mimetype": "text/x-python",
   "name": "python",
   "nbconvert_exporter": "python",
   "pygments_lexer": "ipython3",
   "version": "3.7.3"
  }
 },
 "nbformat": 4,
 "nbformat_minor": 2
}
