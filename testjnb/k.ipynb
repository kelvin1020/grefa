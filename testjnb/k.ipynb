{
 "cells": [
  {
   "cell_type": "code",
   "execution_count": 2,
   "metadata": {},
   "outputs": [],
   "source": [
    "import numpy as np\n",
    "\n",
    "#Constans\n",
    "Pi = np.pi \n",
    "\n",
    "#Functions\n",
    "Cos = np.cos\n",
    "Sin = np.sin\n",
    "\n",
    "\n",
    "#Variables\n",
    "f = 100;                      #(* GW or Fourier \\frequency *)\n",
    "\n",
    "\n",
    "#Coefficients\n",
    "Gamma = 0.5772156649;         #(* Euler-Gamma constant. Appears in 3PN corrections *) \n",
    "Fp = -0.5; Fc = 0.866025;     # (*  Choosing antenna patterns for \\Theta=0^\\(Degree), Phi= 30^\\(Degree) and \\(Psi)=30^\\(Degree) *)\n",
    "Phic = 0;                     #(* Orbital phase at coalescence *)\n",
    "tc = 0;                       #(* \\Time of coalescence *)\n",
    "m1 = 10; m2 = 10;             #(* Mass of the binary \\components in solar mass units *)\n",
    "msun = 1.989e30;              #(* Solar mass in S.I. units  *)\n",
    "m = (m1 + m2)* msun;          #(* Total mass of the binary in S.I. units *)\n",
    "delta = (m1 - m2)* msun;      #(* Difference in the masses of the binary components in \\S.I. units *)\n",
    "Eta = (m1*m2*msun**2)/m**2;   #(* Symmetric mass ratio *)\n",
    "G = 6.67408e-11;              #(* Gravitational constant in S.I. units *)\n",
    "c = 299792458;                #(* Speed of light in vacuum in S.I. units *)\n",
    "d = 100*3.086e22;             #(* Distance to the binary in S.I. units *)\n",
    "f0 = 20.000;                  #(* Lower frequency cut-off of the GW detector *)\n",
    "\n",
    "\n",
    "ff = c**3/(G*m*Pi*6**(3/2));  # (* Fourier frequency corresponding to second harmonic \\of last stable orbit of the system *)\n",
    "Chi = f/f0;                   #(* Ratio of Fourier frequency to the lower cut-off frequency \\*)     \n",
    "i = Pi/3; Beta = Pi/3;        #(* Choose any value for angles relating line of sight to the \\orbital plane of the binary*)\n",
    "Ci = Cos(i);                  #(* Defining variables as trigonometric functions of \\angles iota and beta *)\n",
    "Si = Sin(i);\n",
    "S1Beta = Sin( Beta);\n",
    "C1Beta = Cos( Beta);\n",
    "S2Beta = Sin(2 * Beta);\n",
    "C2Beta = Cos(2 * Beta);\n",
    "S3Beta = Sin(3 * Beta);\n",
    "C3Beta = Cos(3 * Beta);\n",
    "S4Beta = Sin(4 * Beta);\n",
    "C4Beta = Cos(4 * Beta);\n",
    "et0 = 0.1;                    #(* Eccentricity at lower cut-off frequency of the \\detector, f0 i.e. et0 = et(f0) *)\n",
    "\n",
    "\n",
    "\n",
    "k = np.pi / 3\n",
    "l = np.pi / 5\n",
    "e = 0.3\n",
    "\n",
    "Phi = (1+k) * l \n",
    "Phip = k * l\n"
   ]
  },
  {
   "cell_type": "code",
   "execution_count": 3,
   "metadata": {},
   "outputs": [],
   "source": [
    "Log = np.log\n",
    "\n",
    "x = lambda j:((f*G*m)/(c**3*j))**0.6666666666666666*(2*Pi)**0.6666666666666666\n",
    "\n",
    "\n",
    "def k(j):\n",
    "    return x(j)**2*(13.5 - 7*Eta + et0**6*(1589015535/(5.175296e6*Chi**7) - (110496315*Eta)/(184832.*Chi**7) + 498132560585/(1.614692352e9*Chi**6.333333333333333) + \\\n",
    "(168333575*Eta)/(1.478656e6*Chi**6.333333333333333) - 908911888607/(1.816528896e9*Chi**4.888888888888889) + \\\n",
    "(4154545993*Eta)/(4.990464e6*Chi**4.888888888888889) - 892815840919/(1.816528896e9*Chi**4.222222222222222) - \\\n",
    "(301299733*Eta)/(4.990464e6*Chi**4.222222222222222) + 3110697122471/(1.4532231168e10*Chi**2.7777777777777777) - \\\n",
    "(12075357445*Eta)/(3.9923712e7*Chi**2.7777777777777777) + 17781607555/(6.9866496e7*Chi**2.111111111111111) - \\\n",
    "(82799465*Eta)/(2.495232e6*Chi**2.111111111111111)) + \\\n",
    "et0**4*(-6830363/(153216.*Chi**4.888888888888889) + (474967*Eta)/(5472.*Chi**4.888888888888889) - 268677653/(3.983616e6*Chi**4.222222222222222) - \\\n",
    "(90671*Eta)/(10944.*Chi**4.222222222222222) + 18185905/(284544.*Chi**2.7777777777777777) - (267133*Eta)/(2736.*Chi**2.7777777777777777) + \\\n",
    "34967929/(306432.*Chi**2.111111111111111) - (162827*Eta)/(10944.*Chi**2.111111111111111)) + \\\n",
    "et0**2*(2833/(336.*Chi**2.7777777777777777) - (197*Eta)/(12.*Chi**2.7777777777777777) + 10523/(336.*Chi**2.111111111111111) - \\\n",
    "(49*Eta)/(12.*Chi**2.111111111111111))) + x(j)*(3 + et0**4*(-2411/(304.*Chi**4.222222222222222) + 3323/(304.*Chi**2.111111111111111)) + \\\n",
    "et0**6*(1682685/(46208.*Chi**6.333333333333333) - 8011753/(138624.*Chi**4.222222222222222) + 1689785/(69312.*Chi**2.111111111111111)) + \\\n",
    "(3*et0**2)/Chi**2.111111111111111) + x(j)**2.5*((-377*et0**2*Pi*(-1 + Chi))/(24.*Chi**3.111111111111111) - \\\n",
    "(et0**4*Pi*(3635788 - 2258257*Chi - 3883073*Chi**2.111111111111111 + 2505542*Chi**3.111111111111111))/(43776.*Chi**5.222222222222222) - \\\n",
    "(et0**6*Pi*(-331142311890 + 189286331247*Chi + 446685572185*Chi**2.111111111111111 - 217621452319*Chi**3.111111111111111 - \\\n",
    "161105816843*Chi**4.222222222222222 + 73897677620*Chi**5.222222222222222))/(5.78893824e8*Chi**7.333333333333333)) + \\\n",
    "x(j)**3*((2160 - 5192*Eta + 123*Pi**2*Eta + 224*Eta**2)/32. + (et0**2*\\\n",
    "(-1193251 - 22282512*Eta + 42700560*Eta**2 + 89434977*Chi**0.6666666666666666 - 185795232*Eta*Chi**0.6666666666666666 + \\\n",
    "22703856*Eta**2*Chi**0.6666666666666666 + 285923842*Chi**1.3333333333333333 - 477003408*Eta*Chi**1.3333333333333333 + \\\n",
    "12692862*Pi**2*Eta*Chi**1.3333333333333333 - 3424512*Eta**2*Chi**1.3333333333333333))/(1.016064e6*Chi**3.4444444444444446) + \\\n",
    "(et0**4*(-4759063292165 + 30348860970792*Eta - 38763744107088*Eta**2 - 31968879219858*Chi**0.6666666666666666 + 58318046249232*Eta*Chi**0.6666666666666666 + \\\n",
    "7646159215968*Eta**2*Chi**0.6666666666666666 - 31736268138496*Chi**1.3333333333333333 + 45889671128952*Eta*Chi**1.3333333333333333 - \\\n",
    "1650389381550*Pi**2*Eta*Chi**1.3333333333333333 + 219411602592*Eta**2*Chi**1.3333333333333333 + 2043730880707*Chi**2.111111111111111 - \\\n",
    "27141856655592*Eta*Chi**2.111111111111111 + 35073241576464*Eta**2*Chi**2.111111111111111 + 56262861824610*Chi**2.7777777777777777 - \\\n",
    "93285988260024*Eta*Chi**2.7777777777777777 + 11206302010176*Eta**2*Chi**2.7777777777777777 + 86461368353906*Chi**3.4444444444444446 - \\\n",
    "144242491555344*Eta*Chi**3.4444444444444446 + 3838232618766*Pi**2*Eta*Chi**3.4444444444444446 - 1035548457216*Eta**2*Chi**3.4444444444444446))/\\\n",
    "(8.4325183488e10*Chi**5.555555555555555) + (et0**6*(3279894679024104960 - 16631859540896308800*Eta + 19202503791507079680*Eta**2 + \\\n",
    "10402025549836075155*Chi**0.6666666666666666 - 16414748179030197360*Eta*Chi**0.6666666666666666 - 7473844435281260400*Eta**2*Chi**0.6666666666666666 + \\\n",
    "6636901757399139267*Chi**1.3333333333333333 - 6647849008784363016*Eta*Chi**1.3333333333333333 + 341159644201429872*Pi**2*Eta*Chi**1.3333333333333333 + \\\n",
    "623118469564347120*Eta**2*Chi**1.3333333333333333 - 4220015697065866256*Chi**2.111111111111111 + 21692272309533291648*Eta*Chi**2.111111111111111 - \\\n",
    "23329096412641114368*Eta**2*Chi**2.111111111111111 - 17016310487961012648*Chi**2.7777777777777777 + 26221595034201700224*Eta*Chi**2.7777777777777777 + \\\n",
    "3477817715529865344*Eta**2*Chi**2.7777777777777777 - 10967800378519109632*Chi**3.4444444444444446 + 15859103224796779584*Eta*Chi**3.4444444444444446 - \\\n",
    "570361367148627600*Pi**2*Eta*Chi**3.4444444444444446 + 75826894562974464*Eta**2*Chi**3.4444444444444446 + 493039468942823701*Chi**4.222222222222222 - \\\n",
    "6093524899450135056*Eta*Chi**4.222222222222222 + 7224047870706816240*Eta**2*Chi**4.222222222222222 + 8936345368795116909*Chi**4.888888888888889 - \\\n",
    "13792229587322482296*Eta*Chi**4.888888888888889 + 1646334720273668880*Eta**2*Chi**4.888888888888889 + 9145059780731944160*Chi**5.555555555555555 - \\\n",
    "15256596481285635840*Eta*Chi**5.555555555555555 + 405971677516073760*Pi**2*Eta*Chi**5.555555555555555 - 109530449579765760*Eta**2*Chi**5.555555555555555))\\\n",
    "/(3.999037501734912e15*Chi**7.666666666666667))"
   ]
  },
  {
   "cell_type": "code",
   "execution_count": 4,
   "metadata": {},
   "outputs": [
    {
     "data": {
      "text/plain": [
       "0.445534581537891"
      ]
     },
     "execution_count": 4,
     "metadata": {},
     "output_type": "execute_result"
    }
   ],
   "source": [
    "k(2)"
   ]
  },
  {
   "cell_type": "code",
   "execution_count": 13,
   "metadata": {},
   "outputs": [],
   "source": [
    "# (* 3PN accurate k,rate of advance of periastron,accurate to et0^6. \\\n",
    "# Evaluated at the unperturbed stationary point x = ((G m 2 \\[Pi] f)/( \\\n",
    "# c^3 j))^(2/3) *)"
   ]
  }
 ],
 "metadata": {
  "kernelspec": {
   "display_name": "Python 3",
   "language": "python",
   "name": "python3"
  },
  "language_info": {
   "codemirror_mode": {
    "name": "ipython",
    "version": 3
   },
   "file_extension": ".py",
   "mimetype": "text/x-python",
   "name": "python",
   "nbconvert_exporter": "python",
   "pygments_lexer": "ipython3",
   "version": "3.7.3"
  }
 },
 "nbformat": 4,
 "nbformat_minor": 2
}
