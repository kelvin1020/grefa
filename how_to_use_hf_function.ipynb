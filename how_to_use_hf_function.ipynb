{
 "cells": [
  {
   "cell_type": "code",
   "execution_count": 1,
   "metadata": {},
   "outputs": [],
   "source": [
    "import numpy as np\n",
    "import sympy as sp\n",
    "import time\n",
    "from multiprocessing import Pool\n",
    "from multiprocessing import cpu_count\n",
    "from PRD_h_f2 import hf\n",
    "\n",
    "Pi = np.pi \n",
    "\n",
    "# $Assumptions  \n",
    "#{{Fc, Fp, i, \\[Beta], e, et0, \\[Chi]} belongs to  Reals  \n",
    "#  0 <= e    <= 1 \n",
    "#  0 <= et0  <= 1  \n",
    "#       Chi  >  0 \n",
    "#  0 <= i    <= Pi/2 \n",
    "#  0 <= Beta <= Pi/2 \n",
    "# -1 <= Fc   <= 1 \n",
    "# -1 <= Fp   <= 1 \n",
    "#  0 <  Eta  <=0.25 \n",
    "#(* Assumptions to simplify computations *)   \n",
    "\n",
    "\n",
    "Fp = -0.5; \n",
    "Fc = 0.866025;     # (*  Choosing antenna patterns for \\Theta=0^\\(Degree), Phi= 30^\\(Degree) and \\(Psi)=30^\\(Degree) *)\n",
    "\n",
    "Phic = 0;                     #(* Orbital phase at coalescence *)\n",
    "tc = 0;                       #(* \\Time of coalescence *)\n",
    "\n",
    "m1 = 10; \n",
    "m2 = 10;             #(* Mass of the binary \\components in solar mass units *)\n",
    "\n",
    "d = 100*3.086e22;             #(* Distance to the binary in S.I. units *)  #100 Mpc\n",
    "\n",
    "i = Pi/3; \n",
    "Beta = Pi/3;        #(* Choose any value for angles relating line of sight to the \\orbital plane of the binary*)\n",
    "\n",
    "et0 = 0.1;                    #(* Eccentricity at lower cut-off frequency of the \\detector, f0 i.e. et0 = et(f0) *)\n",
    "\n",
    "\n",
    "def hf_f(f):\n",
    "    return hf(f, Fp = Fp, Fc = Fc, Phic = Phic, tc = tc, \\\n",
    "                 m1 = m1, m2 = m2, d  = d, i  = i, Beta = Beta, et0  = et0)"
   ]
  },
  {
   "cell_type": "code",
   "execution_count": null,
   "metadata": {},
   "outputs": [
    {
     "name": "stdout",
     "output_type": "stream",
     "text": [
      "cores = 8\n"
     ]
    }
   ],
   "source": [
    "core = cpu_count()\n",
    "print(\"cores = %d\"%core)\n",
    "\n",
    "#Variables\n",
    "f = np.linspace(20, 100, core);                      #(* GW or Fourier \\frequency *)\n",
    "f = f.tolist()\n",
    "\n",
    "time0 = time.time()\n",
    "with Pool() as pool:\n",
    "    hf_ans = pool.map(hf_f, f)\n",
    "timet = time.time()\n",
    "\n",
    "print(\"\\nhf =\", hf_ans)\n",
    "print(\"cost %4.1fs\"%(timet-time0))"
   ]
  }
 ],
 "metadata": {
  "kernelspec": {
   "display_name": "Python 3",
   "language": "python",
   "name": "python3"
  },
  "language_info": {
   "codemirror_mode": {
    "name": "ipython",
    "version": 3
   },
   "file_extension": ".py",
   "mimetype": "text/x-python",
   "name": "python",
   "nbconvert_exporter": "python",
   "pygments_lexer": "ipython3",
   "version": "3.7.3"
  }
 },
 "nbformat": 4,
 "nbformat_minor": 2
}
